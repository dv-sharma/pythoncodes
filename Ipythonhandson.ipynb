{
 "cells": [
  {
   "cell_type": "code",
   "execution_count": 45,
   "id": "941dc43d-bfbb-4fcb-89c7-8b29815f39b0",
   "metadata": {},
   "outputs": [
    {
     "data": {
      "text/plain": [
       "IPython.utils.text.SList"
      ]
     },
     "execution_count": 45,
     "metadata": {},
     "output_type": "execute_result"
    }
   ],
   "source": [
    "var_ls =!ls -l | tail -n 4\n",
    "type(var_ls)\n"
   ]
  },
  {
   "cell_type": "markdown",
   "id": "44302a31-17e8-4b2e-b1f9-507badab8477",
   "metadata": {},
   "source": [
    "SList coverts a regular shell command into an object with three main method : (field,grep,sort)"
   ]
  },
  {
   "cell_type": "code",
   "execution_count": 46,
   "id": "8c9b82ba-59ac-44a0-b1e1-c5a3187c705f",
   "metadata": {},
   "outputs": [
    {
     "name": "stdout",
     "output_type": "stream",
     "text": [
      "['-rwxrwxrwx 1 divyam divyam 238426 Mar 27 09:22 Python_for_DevOps-10-07-2021.ipynb', '-rw-r--r-- 1 divyam divyam   4659 Mar 27 11:02 Untitled.ipynb', 'drwxr-xr-x 1 divyam divyam    512 Mar 27 10:18 my_project_env', '-rwxrwxrwx 1 divyam divyam   1971 Feb 24 16:15 runqueryDB.py']\n"
     ]
    }
   ],
   "source": [
    "print(var_ls)"
   ]
  },
  {
   "cell_type": "code",
   "execution_count": 47,
   "id": "bf3b2510-e370-4b2a-b096-dd219ccb418d",
   "metadata": {},
   "outputs": [
    {
     "data": {
      "text/plain": [
       "['-rwxrwxrwx 1 divyam divyam   1971 Feb 24 16:15 runqueryDB.py']"
      ]
     },
     "execution_count": 47,
     "metadata": {},
     "output_type": "execute_result"
    }
   ],
   "source": [
    "var_ls.grep(\"query\")"
   ]
  },
  {
   "cell_type": "code",
   "execution_count": 48,
   "id": "3a0c2e40-544d-4623-8b15-7f75c2c21b25",
   "metadata": {},
   "outputs": [
    {
     "data": {
      "text/plain": [
       "[['-rwxrwxrwx',\n",
       "  '1',\n",
       "  'divyam',\n",
       "  'divyam',\n",
       "  '238426',\n",
       "  'Mar',\n",
       "  '27',\n",
       "  '09:22',\n",
       "  'Python_for_DevOps-10-07-2021.ipynb'],\n",
       " ['-rw-r--r--',\n",
       "  '1',\n",
       "  'divyam',\n",
       "  'divyam',\n",
       "  '4659',\n",
       "  'Mar',\n",
       "  '27',\n",
       "  '11:02',\n",
       "  'Untitled.ipynb'],\n",
       " ['drwxr-xr-x',\n",
       "  '1',\n",
       "  'divyam',\n",
       "  'divyam',\n",
       "  '512',\n",
       "  'Mar',\n",
       "  '27',\n",
       "  '10:18',\n",
       "  'my_project_env'],\n",
       " ['-rwxrwxrwx',\n",
       "  '1',\n",
       "  'divyam',\n",
       "  'divyam',\n",
       "  '1971',\n",
       "  'Feb',\n",
       "  '24',\n",
       "  '16:15',\n",
       "  'runqueryDB.py']]"
      ]
     },
     "execution_count": 48,
     "metadata": {},
     "output_type": "execute_result"
    }
   ],
   "source": [
    "var_ls.fields()"
   ]
  },
  {
   "cell_type": "code",
   "execution_count": 52,
   "id": "d15a1505-a03b-4e1b-8f00-1661a788a24d",
   "metadata": {},
   "outputs": [
    {
     "data": {
      "text/plain": [
       "['-rwxrwxrwx 1 divyam divyam 238426 Mar 27 09:22 Python_for_DevOps-10-07-2021.ipynb',\n",
       " 'drwxr-xr-x 1 divyam divyam    512 Mar 27 10:18 my_project_env',\n",
       " '-rw-r--r-- 1 divyam divyam   4659 Mar 27 11:02 Untitled.ipynb',\n",
       " '-rwxrwxrwx 1 divyam divyam   1971 Feb 24 16:15 runqueryDB.py']"
      ]
     },
     "execution_count": 52,
     "metadata": {},
     "output_type": "execute_result"
    }
   ],
   "source": [
    "var_ls.sort(7,nums=False)\n",
    "# SORTS THE 7th row, seperating whitespace, False option means that string will not be converted in number form"
   ]
  },
  {
   "cell_type": "code",
   "execution_count": 50,
   "id": "cfb41ffa-7bb1-4cf4-89d4-ade0102588f7",
   "metadata": {
    "scrolled": true
   },
   "outputs": [
    {
     "name": "stdout",
     "output_type": "stream",
     "text": [
      "my_project_env\n"
     ]
    }
   ],
   "source": [
    "eighth_element = var_ls[2].split()\n",
    "my_elemnt=eighth_element[8]\n",
    "print(my_elemnt)"
   ]
  },
  {
   "cell_type": "markdown",
   "id": "4b727094-df3e-46da-afbf-eceea321850e",
   "metadata": {},
   "source": [
    "To Access the file name for the third List"
   ]
  },
  {
   "cell_type": "code",
   "execution_count": 51,
   "id": "54ccaef1-bc1e-48be-a334-31bb37a1c95b",
   "metadata": {},
   "outputs": [
    {
     "name": "stdout",
     "output_type": "stream",
     "text": [
      "['-rwxrwxrwx 1 divyam divyam   1971 Feb 24 16:15 runqueryDB.py']\n"
     ]
    }
   ],
   "source": [
    "grep_query= var_ls.grep(\"query\")\n",
    "print(grep_query)"
   ]
  },
  {
   "cell_type": "code",
   "execution_count": 55,
   "id": "68943b18-e970-4683-9d32-be1a20580135",
   "metadata": {},
   "outputs": [],
   "source": [
    "#IMAGIC COMMANDS\n",
    "# use %%\n",
    "We will learn two magic commands\n",
    "# %%writefile : Write & test python scripts on fly\n",
    "# %who : to see what is in memory"
   ]
  },
  {
   "cell_type": "code",
   "execution_count": 56,
   "id": "1fef536b-777d-4b64-82c0-66e10995034b",
   "metadata": {},
   "outputs": [
    {
     "name": "stdout",
     "output_type": "stream",
     "text": [
      "Writing divyamsmagicfile.py\n"
     ]
    }
   ],
   "source": [
    "%%writefile divyamsmagicfile.py\n",
    "#!/usr/bin/env my_project_env\n",
    "import datetime\n",
    "print(datetime.datetime.now())"
   ]
  },
  {
   "cell_type": "code",
   "execution_count": 57,
   "id": "b3eb5f31-7459-4d51-8c46-ba1e2627dc55",
   "metadata": {},
   "outputs": [
    {
     "name": "stdout",
     "output_type": "stream",
     "text": [
      "#!/usr/bin/env my_project_env\n",
      "import datetime\n",
      "print(datetime.datetime.now())\n"
     ]
    }
   ],
   "source": [
    "cat divyamsmagicfile.py"
   ]
  },
  {
   "cell_type": "code",
   "execution_count": 59,
   "id": "33b84ffd-4565-408e-8a88-47054154eac2",
   "metadata": {},
   "outputs": [
    {
     "name": "stdout",
     "output_type": "stream",
     "text": [
      "2024-03-27 11:10:07.539808\n"
     ]
    }
   ],
   "source": [
    "!python divyamsmagicfile.py"
   ]
  },
  {
   "cell_type": "code",
   "execution_count": 61,
   "id": "93d12c7e-5ac9-47fd-838f-8c5fdb7f68c2",
   "metadata": {},
   "outputs": [
    {
     "name": "stdout",
     "output_type": "stream",
     "text": [
      "df\t eight_elemtn\t eighth_element\t grep_query\t my_elemnt\t var_ls\t \n"
     ]
    }
   ],
   "source": [
    "%who"
   ]
  },
  {
   "cell_type": "code",
   "execution_count": null,
   "id": "a28e6a95-4426-418f-92b5-9191ce9f4d8a",
   "metadata": {},
   "outputs": [],
   "source": []
  }
 ],
 "metadata": {
  "kernelspec": {
   "display_name": "Python 3 (ipykernel)",
   "language": "python",
   "name": "python3"
  },
  "language_info": {
   "codemirror_mode": {
    "name": "ipython",
    "version": 3
   },
   "file_extension": ".py",
   "mimetype": "text/x-python",
   "name": "python",
   "nbconvert_exporter": "python",
   "pygments_lexer": "ipython3",
   "version": "3.10.12"
  }
 },
 "nbformat": 4,
 "nbformat_minor": 5
}
