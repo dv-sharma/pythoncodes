{
 "cells": [
  {
   "cell_type": "markdown",
   "id": "7970e8a2-5311-40be-91e2-970adf09fbad",
   "metadata": {},
   "source": [
    "WRITE A PYTHON FUNCTION THAT TAKES NAME AS ARGUMENT & PRINTS THAT NAME\n"
   ]
  },
  {
   "cell_type": "code",
   "execution_count": 2,
   "id": "d406a084-7e60-4bc6-9b50-804e78e209ef",
   "metadata": {},
   "outputs": [
    {
     "name": "stdout",
     "output_type": "stream",
     "text": [
      "Divyam\n"
     ]
    }
   ],
   "source": [
    "\n",
    "def namePrinter(name):\n",
    "    print(name)\n",
    "\n",
    "namePrinter(\"Divyam\")"
   ]
  },
  {
   "cell_type": "markdown",
   "id": "0927bfe8-b405-4693-b8c7-2d048726493c",
   "metadata": {},
   "source": [
    "WRITE A PROGRAM THAT TAKES STRING AS ARGUMENT & PRINTS WHETHER IT IS UPPERCASE OR LOWERCASE\n"
   ]
  },
  {
   "cell_type": "code",
   "execution_count": 10,
   "id": "9bd4ead4-0bdc-4a57-a7cd-db0bf4e563e4",
   "metadata": {},
   "outputs": [
    {
     "name": "stdout",
     "output_type": "stream",
     "text": [
      "String is lowercase\n",
      "String is mixed\n",
      "String is uppercase\n"
     ]
    }
   ],
   "source": [
    "def stringClassifier(string):\n",
    "    if string.isupper():\n",
    "        print(\"String is uppercase\")\n",
    "    elif string.islower():\n",
    "        print(\"String is lowercase\")\n",
    "    else:\n",
    "        print(\"String is mixed\")\n",
    "\n",
    "stringClassifier(\"divyam\")\n",
    "stringClassifier(\"Divyam\")\n",
    "stringClassifier(\"DIVYAM\")"
   ]
  },
  {
   "cell_type": "markdown",
   "id": "97ee87c0-701b-4f54-be75-5f5f6ed0d774",
   "metadata": {},
   "source": [
    "WRITE LIST COMPREHENSION THAT RESULTS IN A LIST OF EVERY LETTER IN THE WORD \"Divyam\"."
   ]
  },
  {
   "cell_type": "code",
   "execution_count": 23,
   "id": "2e79ea5e-7c9f-4433-a254-3336dbf52dca",
   "metadata": {},
   "outputs": [],
   "source": [
    "def ListCreator(Word):\n",
    "    \n",
    "    newlist=[]\n",
    "    for words in Word:\n",
    "        newlist.append(words)\n",
    "    return newlist\n",
    "\n",
    "\n",
    "        "
   ]
  },
  {
   "cell_type": "code",
   "execution_count": 24,
   "id": "258d70f1-d9eb-4667-ba86-c13214d96be1",
   "metadata": {},
   "outputs": [
    {
     "data": {
      "text/plain": [
       "['D', 'i', 'v', 'y', 'a', 'm']"
      ]
     },
     "execution_count": 24,
     "metadata": {},
     "output_type": "execute_result"
    }
   ],
   "source": [
    "ListCreator(\"Divyam\")"
   ]
  },
  {
   "cell_type": "markdown",
   "id": "43e0b33f-11ea-46d6-9173-e48b1087b4f9",
   "metadata": {},
   "source": [
    "WRITE A GENERATOR THAT ALTERNATE BETWEENS RETURNING EVEN & ODD"
   ]
  },
  {
   "cell_type": "code",
   "execution_count": 30,
   "id": "0ab82aca-f2f3-425a-943f-430f05fa0b1c",
   "metadata": {},
   "outputs": [],
   "source": [
    "def OddEvenGenerator():\n",
    "    first=0\n",
    "    while True:\n",
    "        if first%2==0:\n",
    "            yield first\n",
    "            first+=1\n",
    "        else:\n",
    "            yield first\n",
    "            first+=1\n",
    "        "
   ]
  },
  {
   "cell_type": "code",
   "execution_count": 34,
   "id": "f9cbf534-d3df-433b-8c9a-bce7ca0509a5",
   "metadata": {},
   "outputs": [
    {
     "name": "stdout",
     "output_type": "stream",
     "text": [
      "0\n",
      "1\n",
      "2\n",
      "3\n",
      "4\n",
      "5\n",
      "6\n",
      "7\n",
      "8\n",
      "9\n",
      "10\n",
      "11\n"
     ]
    }
   ],
   "source": [
    "function=OddEvenGenerator()\n",
    "for x in function:\n",
    "    print(x)\n",
    "    if x > 10:\n",
    "        break"
   ]
  },
  {
   "cell_type": "markdown",
   "id": "ca46fb8b-1acc-4421-8657-30be585489f7",
   "metadata": {},
   "source": [
    "HERE WE HAVE USED LAZY EVALUATION TECHNIQUE: \n",
    "The benefit of using a generator that alternates between returning even and odd numbers is that it provides a way to lazily generate these numbers on-demand without needing to store all of them in memory at once. "
   ]
  },
  {
   "cell_type": "code",
   "execution_count": 32,
   "id": "a50ae11a-6496-473b-89df-d4a62f763c86",
   "metadata": {},
   "outputs": [],
   "source": [
    "def OddEvenGeneratornew():\n",
    "    first = 0\n",
    "    while True:\n",
    "        yield first\n",
    "        first += 1"
   ]
  },
  {
   "cell_type": "code",
   "execution_count": 33,
   "id": "28848ba8-e022-42fc-b403-27f2ddeb4c2d",
   "metadata": {},
   "outputs": [
    {
     "name": "stdout",
     "output_type": "stream",
     "text": [
      "0\n",
      "1\n",
      "2\n",
      "3\n",
      "4\n",
      "5\n",
      "6\n",
      "7\n",
      "8\n",
      "9\n"
     ]
    }
   ],
   "source": [
    "generator = OddEvenGeneratornew()  # Create the generator outside the loop\n",
    "for _ in range(10):\n",
    "    print(next(generator))"
   ]
  },
  {
   "cell_type": "code",
   "execution_count": null,
   "id": "3b331f37-1b29-401d-a61b-4ed2abc9974e",
   "metadata": {},
   "outputs": [],
   "source": []
  }
 ],
 "metadata": {
  "kernelspec": {
   "display_name": "Python 3 (ipykernel)",
   "language": "python",
   "name": "python3"
  },
  "language_info": {
   "codemirror_mode": {
    "name": "ipython",
    "version": 3
   },
   "file_extension": ".py",
   "mimetype": "text/x-python",
   "name": "python",
   "nbconvert_exporter": "python",
   "pygments_lexer": "ipython3",
   "version": "3.10.12"
  }
 },
 "nbformat": 4,
 "nbformat_minor": 5
}
